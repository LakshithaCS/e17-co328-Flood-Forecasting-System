{
  "nbformat": 4,
  "nbformat_minor": 0,
  "metadata": {
    "colab": {
      "name": "ML_LR.ipynb",
      "provenance": [],
      "collapsed_sections": [],
      "authorship_tag": "ABX9TyNN1YyWndtCKz5hh63VbfBQ"
    },
    "kernelspec": {
      "name": "python3",
      "display_name": "Python 3"
    },
    "language_info": {
      "name": "python"
    }
  },
  "cells": [
    {
      "cell_type": "markdown",
      "source": [
        "# **This notebook contains the Linear Regression model**"
      ],
      "metadata": {
        "id": "qI0xBQnxizaz"
      }
    },
    {
      "cell_type": "markdown",
      "source": [
        "# connect database and create dataframe"
      ],
      "metadata": {
        "id": "4bAiVC9YnATR"
      }
    },
    {
      "cell_type": "code",
      "execution_count": null,
      "metadata": {
        "colab": {
          "base_uri": "https://localhost:8080/"
        },
        "id": "yCWb7mOYiv2Q",
        "outputId": "16f99213-fb10-4241-c166-85507d9c3d6e"
      },
      "outputs": [
        {
          "output_type": "stream",
          "name": "stdout",
          "text": [
            "Found existing installation: pymongo 4.1.0\n",
            "Uninstalling pymongo-4.1.0:\n",
            "  Would remove:\n",
            "    /usr/local/lib/python3.7/dist-packages/bson/*\n",
            "    /usr/local/lib/python3.7/dist-packages/gridfs/*\n",
            "    /usr/local/lib/python3.7/dist-packages/pymongo-4.1.0.dist-info/*\n",
            "    /usr/local/lib/python3.7/dist-packages/pymongo/*\n",
            "Proceed (y/n)? y\n",
            "  Successfully uninstalled pymongo-4.1.0\n",
            "Collecting pymongo[srv]\n",
            "  Using cached pymongo-4.1.0-cp37-cp37m-manylinux_2_17_x86_64.manylinux2014_x86_64.whl (462 kB)\n",
            "Requirement already satisfied: dnspython<3.0.0,>=1.16.0 in /usr/local/lib/python3.7/dist-packages (from pymongo[srv]) (2.2.1)\n",
            "Installing collected packages: pymongo\n",
            "Successfully installed pymongo-4.1.0\n"
          ]
        }
      ],
      "source": [
        "!pip uninstall pymongo\n",
        "!pip install pymongo[srv]"
      ]
    },
    {
      "cell_type": "code",
      "source": [
        "import matplotlib.pyplot as plt\n",
        "import numpy as np\n",
        "import pandas as pd\n",
        "import seaborn as sns\n",
        "\n",
        "import tensorflow as tf\n",
        "from tensorflow import keras\n",
        "from tensorflow.keras import layers\n",
        "from tensorflow.keras.layers.experimental import preprocessing\n",
        "\n",
        "import matplotlib as mpl\n",
        "\n",
        "mpl.rcParams['figure.figsize'] = (8,6)\n",
        "mpl.rcParams['axes.grid'] = False"
      ],
      "metadata": {
        "id": "uOnByDagjWyB"
      },
      "execution_count": null,
      "outputs": []
    },
    {
      "cell_type": "code",
      "source": [
        "import pymongo as pym\n",
        "import pandas as pd\n",
        "from sklearn.model_selection import train_test_split\n",
        "\n",
        "client = pym.MongoClient('MONGO_URI') #connect database\n",
        "client.test"
      ],
      "metadata": {
        "colab": {
          "base_uri": "https://localhost:8080/"
        },
        "id": "S-YfhPoxj1eb",
        "outputId": "10c1d4c0-6bb4-4bb6-8fb1-cec89f7bb974"
      },
      "execution_count": null,
      "outputs": [
        {
          "output_type": "execute_result",
          "data": {
            "text/plain": [
              "Database(MongoClient(host=['ffs-shard-00-01.7lqnp.mongodb.net:27017', 'ffs-shard-00-02.7lqnp.mongodb.net:27017', 'ffs-shard-00-00.7lqnp.mongodb.net:27017'], document_class=dict, tz_aware=False, connect=True, retrywrites=True, w='majority', authsource='admin', replicaset='atlas-r74xj9-shard-0', tls=True), 'test')"
            ]
          },
          "metadata": {},
          "execution_count": 3
        }
      ]
    },
    {
      "cell_type": "code",
      "source": [
        "db = client.FFSML\n",
        "collection = db.ML_Data\n",
        "\n",
        "df = pd.DataFrame(list(collection.find()))\n",
        "\n",
        "df.drop(columns=['_id'],inplace=True) #drop _id column\n",
        "\n",
        "col_names = ['year','month','day','attaragalla_rf','galgamuwa_rf','mediyawa_rf','mahagalkadawala_rf','streamflow']\n",
        "df.columns = col_names\n",
        "\n",
        "df.head()"
      ],
      "metadata": {
        "id": "jAB_lR1-j4ZB",
        "colab": {
          "base_uri": "https://localhost:8080/",
          "height": 270
        },
        "outputId": "5373a5fd-5951-45f9-9e32-c3f8df94a8ef"
      },
      "execution_count": null,
      "outputs": [
        {
          "output_type": "execute_result",
          "data": {
            "text/plain": [
              "   year  month  day  attaragalla_rf  galgamuwa_rf  mediyawa_rf  \\\n",
              "0  2016      1   20             0.0           0.0          0.0   \n",
              "1  2016      2    4             0.0           0.0          0.0   \n",
              "2  2016      1   11             0.0           0.0          0.0   \n",
              "3  2016      1    7             0.0           0.0          4.1   \n",
              "4  2016      2   16             0.0           0.0          0.0   \n",
              "\n",
              "   mahagalkadawala_rf  streamflow  \n",
              "0                 0.0    1.165105  \n",
              "1                 0.0    0.971200  \n",
              "2                 0.0    1.835221  \n",
              "3                 0.0    3.081524  \n",
              "4                 0.0    1.597633  "
            ],
            "text/html": [
              "\n",
              "  <div id=\"df-3dd959dc-bd41-4451-b20b-aac0d6f83a5e\">\n",
              "    <div class=\"colab-df-container\">\n",
              "      <div>\n",
              "<style scoped>\n",
              "    .dataframe tbody tr th:only-of-type {\n",
              "        vertical-align: middle;\n",
              "    }\n",
              "\n",
              "    .dataframe tbody tr th {\n",
              "        vertical-align: top;\n",
              "    }\n",
              "\n",
              "    .dataframe thead th {\n",
              "        text-align: right;\n",
              "    }\n",
              "</style>\n",
              "<table border=\"1\" class=\"dataframe\">\n",
              "  <thead>\n",
              "    <tr style=\"text-align: right;\">\n",
              "      <th></th>\n",
              "      <th>year</th>\n",
              "      <th>month</th>\n",
              "      <th>day</th>\n",
              "      <th>attaragalla_rf</th>\n",
              "      <th>galgamuwa_rf</th>\n",
              "      <th>mediyawa_rf</th>\n",
              "      <th>mahagalkadawala_rf</th>\n",
              "      <th>streamflow</th>\n",
              "    </tr>\n",
              "  </thead>\n",
              "  <tbody>\n",
              "    <tr>\n",
              "      <th>0</th>\n",
              "      <td>2016</td>\n",
              "      <td>1</td>\n",
              "      <td>20</td>\n",
              "      <td>0.0</td>\n",
              "      <td>0.0</td>\n",
              "      <td>0.0</td>\n",
              "      <td>0.0</td>\n",
              "      <td>1.165105</td>\n",
              "    </tr>\n",
              "    <tr>\n",
              "      <th>1</th>\n",
              "      <td>2016</td>\n",
              "      <td>2</td>\n",
              "      <td>4</td>\n",
              "      <td>0.0</td>\n",
              "      <td>0.0</td>\n",
              "      <td>0.0</td>\n",
              "      <td>0.0</td>\n",
              "      <td>0.971200</td>\n",
              "    </tr>\n",
              "    <tr>\n",
              "      <th>2</th>\n",
              "      <td>2016</td>\n",
              "      <td>1</td>\n",
              "      <td>11</td>\n",
              "      <td>0.0</td>\n",
              "      <td>0.0</td>\n",
              "      <td>0.0</td>\n",
              "      <td>0.0</td>\n",
              "      <td>1.835221</td>\n",
              "    </tr>\n",
              "    <tr>\n",
              "      <th>3</th>\n",
              "      <td>2016</td>\n",
              "      <td>1</td>\n",
              "      <td>7</td>\n",
              "      <td>0.0</td>\n",
              "      <td>0.0</td>\n",
              "      <td>4.1</td>\n",
              "      <td>0.0</td>\n",
              "      <td>3.081524</td>\n",
              "    </tr>\n",
              "    <tr>\n",
              "      <th>4</th>\n",
              "      <td>2016</td>\n",
              "      <td>2</td>\n",
              "      <td>16</td>\n",
              "      <td>0.0</td>\n",
              "      <td>0.0</td>\n",
              "      <td>0.0</td>\n",
              "      <td>0.0</td>\n",
              "      <td>1.597633</td>\n",
              "    </tr>\n",
              "  </tbody>\n",
              "</table>\n",
              "</div>\n",
              "      <button class=\"colab-df-convert\" onclick=\"convertToInteractive('df-3dd959dc-bd41-4451-b20b-aac0d6f83a5e')\"\n",
              "              title=\"Convert this dataframe to an interactive table.\"\n",
              "              style=\"display:none;\">\n",
              "        \n",
              "  <svg xmlns=\"http://www.w3.org/2000/svg\" height=\"24px\"viewBox=\"0 0 24 24\"\n",
              "       width=\"24px\">\n",
              "    <path d=\"M0 0h24v24H0V0z\" fill=\"none\"/>\n",
              "    <path d=\"M18.56 5.44l.94 2.06.94-2.06 2.06-.94-2.06-.94-.94-2.06-.94 2.06-2.06.94zm-11 1L8.5 8.5l.94-2.06 2.06-.94-2.06-.94L8.5 2.5l-.94 2.06-2.06.94zm10 10l.94 2.06.94-2.06 2.06-.94-2.06-.94-.94-2.06-.94 2.06-2.06.94z\"/><path d=\"M17.41 7.96l-1.37-1.37c-.4-.4-.92-.59-1.43-.59-.52 0-1.04.2-1.43.59L10.3 9.45l-7.72 7.72c-.78.78-.78 2.05 0 2.83L4 21.41c.39.39.9.59 1.41.59.51 0 1.02-.2 1.41-.59l7.78-7.78 2.81-2.81c.8-.78.8-2.07 0-2.86zM5.41 20L4 18.59l7.72-7.72 1.47 1.35L5.41 20z\"/>\n",
              "  </svg>\n",
              "      </button>\n",
              "      \n",
              "  <style>\n",
              "    .colab-df-container {\n",
              "      display:flex;\n",
              "      flex-wrap:wrap;\n",
              "      gap: 12px;\n",
              "    }\n",
              "\n",
              "    .colab-df-convert {\n",
              "      background-color: #E8F0FE;\n",
              "      border: none;\n",
              "      border-radius: 50%;\n",
              "      cursor: pointer;\n",
              "      display: none;\n",
              "      fill: #1967D2;\n",
              "      height: 32px;\n",
              "      padding: 0 0 0 0;\n",
              "      width: 32px;\n",
              "    }\n",
              "\n",
              "    .colab-df-convert:hover {\n",
              "      background-color: #E2EBFA;\n",
              "      box-shadow: 0px 1px 2px rgba(60, 64, 67, 0.3), 0px 1px 3px 1px rgba(60, 64, 67, 0.15);\n",
              "      fill: #174EA6;\n",
              "    }\n",
              "\n",
              "    [theme=dark] .colab-df-convert {\n",
              "      background-color: #3B4455;\n",
              "      fill: #D2E3FC;\n",
              "    }\n",
              "\n",
              "    [theme=dark] .colab-df-convert:hover {\n",
              "      background-color: #434B5C;\n",
              "      box-shadow: 0px 1px 3px 1px rgba(0, 0, 0, 0.15);\n",
              "      filter: drop-shadow(0px 1px 2px rgba(0, 0, 0, 0.3));\n",
              "      fill: #FFFFFF;\n",
              "    }\n",
              "  </style>\n",
              "\n",
              "      <script>\n",
              "        const buttonEl =\n",
              "          document.querySelector('#df-3dd959dc-bd41-4451-b20b-aac0d6f83a5e button.colab-df-convert');\n",
              "        buttonEl.style.display =\n",
              "          google.colab.kernel.accessAllowed ? 'block' : 'none';\n",
              "\n",
              "        async function convertToInteractive(key) {\n",
              "          const element = document.querySelector('#df-3dd959dc-bd41-4451-b20b-aac0d6f83a5e');\n",
              "          const dataTable =\n",
              "            await google.colab.kernel.invokeFunction('convertToInteractive',\n",
              "                                                     [key], {});\n",
              "          if (!dataTable) return;\n",
              "\n",
              "          const docLinkHtml = 'Like what you see? Visit the ' +\n",
              "            '<a target=\"_blank\" href=https://colab.research.google.com/notebooks/data_table.ipynb>data table notebook</a>'\n",
              "            + ' to learn more about interactive tables.';\n",
              "          element.innerHTML = '';\n",
              "          dataTable['output_type'] = 'display_data';\n",
              "          await google.colab.output.renderOutput(dataTable, element);\n",
              "          const docLink = document.createElement('div');\n",
              "          docLink.innerHTML = docLinkHtml;\n",
              "          element.appendChild(docLink);\n",
              "        }\n",
              "      </script>\n",
              "    </div>\n",
              "  </div>\n",
              "  "
            ]
          },
          "metadata": {},
          "execution_count": 4
        }
      ]
    },
    {
      "cell_type": "markdown",
      "source": [
        "## Data Splitting"
      ],
      "metadata": {
        "id": "v8VtnrlKetB3"
      }
    },
    {
      "cell_type": "code",
      "source": [
        "#drop year month date columns\n",
        "df.drop(columns=['year','month','day'],inplace=True)\n",
        "\n",
        "X = df\n",
        "Y = df.pop('streamflow')"
      ],
      "metadata": {
        "id": "FYMiuvT5h1G5"
      },
      "execution_count": null,
      "outputs": []
    },
    {
      "cell_type": "code",
      "source": [
        "X_train,X_test,Y_train,Y_test = train_test_split(X,Y,test_size=0.2,random_state=0)\n",
        "\n",
        "X_train.describe()"
      ],
      "metadata": {
        "id": "InJMI1ufepSG",
        "colab": {
          "base_uri": "https://localhost:8080/",
          "height": 300
        },
        "outputId": "4bfb8546-868b-4ba3-bd74-eb2c28f286d3"
      },
      "execution_count": null,
      "outputs": [
        {
          "output_type": "execute_result",
          "data": {
            "text/plain": [
              "       attaragalla_rf  galgamuwa_rf  mediyawa_rf  mahagalkadawala_rf\n",
              "count     1168.000000   1168.000000  1168.000000         1168.000000\n",
              "mean         2.696896      3.851113     4.166952            3.424914\n",
              "std          9.618427     12.111410    12.414237           10.821397\n",
              "min          0.000000      0.000000     0.000000            0.000000\n",
              "25%          0.000000      0.000000     0.000000            0.000000\n",
              "50%          0.000000      0.000000     0.000000            0.000000\n",
              "75%          0.000000      0.000000     0.350000            0.000000\n",
              "max         97.500000    136.300000   118.000000          100.500000"
            ],
            "text/html": [
              "\n",
              "  <div id=\"df-2cd9576d-9947-4660-b7c4-aaa3bbd5ee3b\">\n",
              "    <div class=\"colab-df-container\">\n",
              "      <div>\n",
              "<style scoped>\n",
              "    .dataframe tbody tr th:only-of-type {\n",
              "        vertical-align: middle;\n",
              "    }\n",
              "\n",
              "    .dataframe tbody tr th {\n",
              "        vertical-align: top;\n",
              "    }\n",
              "\n",
              "    .dataframe thead th {\n",
              "        text-align: right;\n",
              "    }\n",
              "</style>\n",
              "<table border=\"1\" class=\"dataframe\">\n",
              "  <thead>\n",
              "    <tr style=\"text-align: right;\">\n",
              "      <th></th>\n",
              "      <th>attaragalla_rf</th>\n",
              "      <th>galgamuwa_rf</th>\n",
              "      <th>mediyawa_rf</th>\n",
              "      <th>mahagalkadawala_rf</th>\n",
              "    </tr>\n",
              "  </thead>\n",
              "  <tbody>\n",
              "    <tr>\n",
              "      <th>count</th>\n",
              "      <td>1168.000000</td>\n",
              "      <td>1168.000000</td>\n",
              "      <td>1168.000000</td>\n",
              "      <td>1168.000000</td>\n",
              "    </tr>\n",
              "    <tr>\n",
              "      <th>mean</th>\n",
              "      <td>2.696896</td>\n",
              "      <td>3.851113</td>\n",
              "      <td>4.166952</td>\n",
              "      <td>3.424914</td>\n",
              "    </tr>\n",
              "    <tr>\n",
              "      <th>std</th>\n",
              "      <td>9.618427</td>\n",
              "      <td>12.111410</td>\n",
              "      <td>12.414237</td>\n",
              "      <td>10.821397</td>\n",
              "    </tr>\n",
              "    <tr>\n",
              "      <th>min</th>\n",
              "      <td>0.000000</td>\n",
              "      <td>0.000000</td>\n",
              "      <td>0.000000</td>\n",
              "      <td>0.000000</td>\n",
              "    </tr>\n",
              "    <tr>\n",
              "      <th>25%</th>\n",
              "      <td>0.000000</td>\n",
              "      <td>0.000000</td>\n",
              "      <td>0.000000</td>\n",
              "      <td>0.000000</td>\n",
              "    </tr>\n",
              "    <tr>\n",
              "      <th>50%</th>\n",
              "      <td>0.000000</td>\n",
              "      <td>0.000000</td>\n",
              "      <td>0.000000</td>\n",
              "      <td>0.000000</td>\n",
              "    </tr>\n",
              "    <tr>\n",
              "      <th>75%</th>\n",
              "      <td>0.000000</td>\n",
              "      <td>0.000000</td>\n",
              "      <td>0.350000</td>\n",
              "      <td>0.000000</td>\n",
              "    </tr>\n",
              "    <tr>\n",
              "      <th>max</th>\n",
              "      <td>97.500000</td>\n",
              "      <td>136.300000</td>\n",
              "      <td>118.000000</td>\n",
              "      <td>100.500000</td>\n",
              "    </tr>\n",
              "  </tbody>\n",
              "</table>\n",
              "</div>\n",
              "      <button class=\"colab-df-convert\" onclick=\"convertToInteractive('df-2cd9576d-9947-4660-b7c4-aaa3bbd5ee3b')\"\n",
              "              title=\"Convert this dataframe to an interactive table.\"\n",
              "              style=\"display:none;\">\n",
              "        \n",
              "  <svg xmlns=\"http://www.w3.org/2000/svg\" height=\"24px\"viewBox=\"0 0 24 24\"\n",
              "       width=\"24px\">\n",
              "    <path d=\"M0 0h24v24H0V0z\" fill=\"none\"/>\n",
              "    <path d=\"M18.56 5.44l.94 2.06.94-2.06 2.06-.94-2.06-.94-.94-2.06-.94 2.06-2.06.94zm-11 1L8.5 8.5l.94-2.06 2.06-.94-2.06-.94L8.5 2.5l-.94 2.06-2.06.94zm10 10l.94 2.06.94-2.06 2.06-.94-2.06-.94-.94-2.06-.94 2.06-2.06.94z\"/><path d=\"M17.41 7.96l-1.37-1.37c-.4-.4-.92-.59-1.43-.59-.52 0-1.04.2-1.43.59L10.3 9.45l-7.72 7.72c-.78.78-.78 2.05 0 2.83L4 21.41c.39.39.9.59 1.41.59.51 0 1.02-.2 1.41-.59l7.78-7.78 2.81-2.81c.8-.78.8-2.07 0-2.86zM5.41 20L4 18.59l7.72-7.72 1.47 1.35L5.41 20z\"/>\n",
              "  </svg>\n",
              "      </button>\n",
              "      \n",
              "  <style>\n",
              "    .colab-df-container {\n",
              "      display:flex;\n",
              "      flex-wrap:wrap;\n",
              "      gap: 12px;\n",
              "    }\n",
              "\n",
              "    .colab-df-convert {\n",
              "      background-color: #E8F0FE;\n",
              "      border: none;\n",
              "      border-radius: 50%;\n",
              "      cursor: pointer;\n",
              "      display: none;\n",
              "      fill: #1967D2;\n",
              "      height: 32px;\n",
              "      padding: 0 0 0 0;\n",
              "      width: 32px;\n",
              "    }\n",
              "\n",
              "    .colab-df-convert:hover {\n",
              "      background-color: #E2EBFA;\n",
              "      box-shadow: 0px 1px 2px rgba(60, 64, 67, 0.3), 0px 1px 3px 1px rgba(60, 64, 67, 0.15);\n",
              "      fill: #174EA6;\n",
              "    }\n",
              "\n",
              "    [theme=dark] .colab-df-convert {\n",
              "      background-color: #3B4455;\n",
              "      fill: #D2E3FC;\n",
              "    }\n",
              "\n",
              "    [theme=dark] .colab-df-convert:hover {\n",
              "      background-color: #434B5C;\n",
              "      box-shadow: 0px 1px 3px 1px rgba(0, 0, 0, 0.15);\n",
              "      filter: drop-shadow(0px 1px 2px rgba(0, 0, 0, 0.3));\n",
              "      fill: #FFFFFF;\n",
              "    }\n",
              "  </style>\n",
              "\n",
              "      <script>\n",
              "        const buttonEl =\n",
              "          document.querySelector('#df-2cd9576d-9947-4660-b7c4-aaa3bbd5ee3b button.colab-df-convert');\n",
              "        buttonEl.style.display =\n",
              "          google.colab.kernel.accessAllowed ? 'block' : 'none';\n",
              "\n",
              "        async function convertToInteractive(key) {\n",
              "          const element = document.querySelector('#df-2cd9576d-9947-4660-b7c4-aaa3bbd5ee3b');\n",
              "          const dataTable =\n",
              "            await google.colab.kernel.invokeFunction('convertToInteractive',\n",
              "                                                     [key], {});\n",
              "          if (!dataTable) return;\n",
              "\n",
              "          const docLinkHtml = 'Like what you see? Visit the ' +\n",
              "            '<a target=\"_blank\" href=https://colab.research.google.com/notebooks/data_table.ipynb>data table notebook</a>'\n",
              "            + ' to learn more about interactive tables.';\n",
              "          element.innerHTML = '';\n",
              "          dataTable['output_type'] = 'display_data';\n",
              "          await google.colab.output.renderOutput(dataTable, element);\n",
              "          const docLink = document.createElement('div');\n",
              "          docLink.innerHTML = docLinkHtml;\n",
              "          element.appendChild(docLink);\n",
              "        }\n",
              "      </script>\n",
              "    </div>\n",
              "  </div>\n",
              "  "
            ]
          },
          "metadata": {},
          "execution_count": 8
        }
      ]
    },
    {
      "cell_type": "markdown",
      "source": [
        "### Normalizing"
      ],
      "metadata": {
        "id": "pbk2SwKpS1-o"
      }
    },
    {
      "cell_type": "code",
      "source": [
        "normalizer = preprocessing.Normalization()\n",
        "normalizer.adapt(np.array(X_train))"
      ],
      "metadata": {
        "id": "2BEP1cm7fV_5"
      },
      "execution_count": null,
      "outputs": []
    },
    {
      "cell_type": "code",
      "source": [
        "model = tf.keras.models.Sequential([normalizer,layers.Dense(units=1)])\n",
        "model.summary()"
      ],
      "metadata": {
        "colab": {
          "base_uri": "https://localhost:8080/"
        },
        "id": "9CZogKcYTgHi",
        "outputId": "080c7c94-72fc-4564-a50a-f72f76d43abf"
      },
      "execution_count": null,
      "outputs": [
        {
          "output_type": "stream",
          "name": "stdout",
          "text": [
            "Model: \"sequential\"\n",
            "_________________________________________________________________\n",
            " Layer (type)                Output Shape              Param #   \n",
            "=================================================================\n",
            " normalization (Normalizatio  (None, 4)                9         \n",
            " n)                                                              \n",
            "                                                                 \n",
            " dense (Dense)               (None, 1)                 5         \n",
            "                                                                 \n",
            "=================================================================\n",
            "Total params: 14\n",
            "Trainable params: 5\n",
            "Non-trainable params: 9\n",
            "_________________________________________________________________\n"
          ]
        }
      ]
    },
    {
      "cell_type": "code",
      "source": [
        "model.compile(optimizer= tf.optimizers.Adam(learning_rate=0.1),loss=keras.losses.MeanAbsoluteError())"
      ],
      "metadata": {
        "id": "bYrMW8IkWhxM"
      },
      "execution_count": null,
      "outputs": []
    },
    {
      "cell_type": "code",
      "source": [
        "history = model.fit(X_train,Y_train,epochs=50,verbose=1,validation_split=0.2)"
      ],
      "metadata": {
        "colab": {
          "base_uri": "https://localhost:8080/"
        },
        "id": "ynUfdefzXDi8",
        "outputId": "382aa546-08ee-4743-8e9c-c24092f292b3"
      },
      "execution_count": null,
      "outputs": [
        {
          "output_type": "stream",
          "name": "stdout",
          "text": [
            "Epoch 1/50\n",
            "30/30 [==============================] - 1s 7ms/step - loss: 0.9325 - val_loss: 1.7338\n",
            "Epoch 2/50\n",
            "30/30 [==============================] - 0s 2ms/step - loss: 0.8938 - val_loss: 1.7189\n",
            "Epoch 3/50\n",
            "30/30 [==============================] - 0s 3ms/step - loss: 0.8791 - val_loss: 1.7452\n",
            "Epoch 4/50\n",
            "30/30 [==============================] - 0s 2ms/step - loss: 0.8950 - val_loss: 1.7260\n",
            "Epoch 5/50\n",
            "30/30 [==============================] - 0s 3ms/step - loss: 0.9005 - val_loss: 1.7134\n",
            "Epoch 6/50\n",
            "30/30 [==============================] - 0s 3ms/step - loss: 0.8966 - val_loss: 1.7313\n",
            "Epoch 7/50\n",
            "30/30 [==============================] - 0s 3ms/step - loss: 0.8859 - val_loss: 1.7175\n",
            "Epoch 8/50\n",
            "30/30 [==============================] - 0s 2ms/step - loss: 0.8823 - val_loss: 1.7102\n",
            "Epoch 9/50\n",
            "30/30 [==============================] - 0s 3ms/step - loss: 0.8834 - val_loss: 1.7202\n",
            "Epoch 10/50\n",
            "30/30 [==============================] - 0s 3ms/step - loss: 0.8853 - val_loss: 1.7303\n",
            "Epoch 11/50\n",
            "30/30 [==============================] - 0s 3ms/step - loss: 0.8891 - val_loss: 1.7502\n",
            "Epoch 12/50\n",
            "30/30 [==============================] - 0s 3ms/step - loss: 0.8863 - val_loss: 1.7284\n",
            "Epoch 13/50\n",
            "30/30 [==============================] - 0s 2ms/step - loss: 0.8862 - val_loss: 1.7433\n",
            "Epoch 14/50\n",
            "30/30 [==============================] - 0s 3ms/step - loss: 0.9026 - val_loss: 1.7390\n",
            "Epoch 15/50\n",
            "30/30 [==============================] - 0s 2ms/step - loss: 0.8892 - val_loss: 1.7150\n",
            "Epoch 16/50\n",
            "30/30 [==============================] - 0s 3ms/step - loss: 0.8833 - val_loss: 1.7426\n",
            "Epoch 17/50\n",
            "30/30 [==============================] - 0s 2ms/step - loss: 0.8964 - val_loss: 1.7267\n",
            "Epoch 18/50\n",
            "30/30 [==============================] - 0s 2ms/step - loss: 0.8974 - val_loss: 1.7241\n",
            "Epoch 19/50\n",
            "30/30 [==============================] - 0s 2ms/step - loss: 0.8946 - val_loss: 1.7358\n",
            "Epoch 20/50\n",
            "30/30 [==============================] - 0s 3ms/step - loss: 0.9094 - val_loss: 1.7216\n",
            "Epoch 21/50\n",
            "30/30 [==============================] - 0s 2ms/step - loss: 0.8856 - val_loss: 1.7169\n",
            "Epoch 22/50\n",
            "30/30 [==============================] - 0s 2ms/step - loss: 0.8878 - val_loss: 1.7382\n",
            "Epoch 23/50\n",
            "30/30 [==============================] - 0s 3ms/step - loss: 0.8963 - val_loss: 1.7256\n",
            "Epoch 24/50\n",
            "30/30 [==============================] - 0s 2ms/step - loss: 0.9178 - val_loss: 1.7214\n",
            "Epoch 25/50\n",
            "30/30 [==============================] - 0s 2ms/step - loss: 0.8943 - val_loss: 1.7246\n",
            "Epoch 26/50\n",
            "30/30 [==============================] - 0s 3ms/step - loss: 0.8836 - val_loss: 1.7273\n",
            "Epoch 27/50\n",
            "30/30 [==============================] - 0s 3ms/step - loss: 0.8843 - val_loss: 1.7181\n",
            "Epoch 28/50\n",
            "30/30 [==============================] - 0s 3ms/step - loss: 0.8842 - val_loss: 1.7199\n",
            "Epoch 29/50\n",
            "30/30 [==============================] - 0s 3ms/step - loss: 0.8883 - val_loss: 1.7296\n",
            "Epoch 30/50\n",
            "30/30 [==============================] - 0s 3ms/step - loss: 0.8851 - val_loss: 1.7433\n",
            "Epoch 31/50\n",
            "30/30 [==============================] - 0s 2ms/step - loss: 0.8932 - val_loss: 1.7278\n",
            "Epoch 32/50\n",
            "30/30 [==============================] - 0s 3ms/step - loss: 0.8901 - val_loss: 1.7196\n",
            "Epoch 33/50\n",
            "30/30 [==============================] - 0s 2ms/step - loss: 0.8912 - val_loss: 1.7196\n",
            "Epoch 34/50\n",
            "30/30 [==============================] - 0s 3ms/step - loss: 0.8825 - val_loss: 1.7381\n",
            "Epoch 35/50\n",
            "30/30 [==============================] - 0s 3ms/step - loss: 0.9018 - val_loss: 1.7120\n",
            "Epoch 36/50\n",
            "30/30 [==============================] - 0s 2ms/step - loss: 0.8788 - val_loss: 1.7429\n",
            "Epoch 37/50\n",
            "30/30 [==============================] - 0s 2ms/step - loss: 0.8915 - val_loss: 1.7432\n",
            "Epoch 38/50\n",
            "30/30 [==============================] - 0s 2ms/step - loss: 0.8965 - val_loss: 1.7505\n",
            "Epoch 39/50\n",
            "30/30 [==============================] - 0s 2ms/step - loss: 0.8967 - val_loss: 1.7284\n",
            "Epoch 40/50\n",
            "30/30 [==============================] - 0s 2ms/step - loss: 0.9249 - val_loss: 1.7168\n",
            "Epoch 41/50\n",
            "30/30 [==============================] - 0s 3ms/step - loss: 0.8853 - val_loss: 1.7171\n",
            "Epoch 42/50\n",
            "30/30 [==============================] - 0s 2ms/step - loss: 0.9013 - val_loss: 1.7327\n",
            "Epoch 43/50\n",
            "30/30 [==============================] - 0s 2ms/step - loss: 0.8901 - val_loss: 1.7245\n",
            "Epoch 44/50\n",
            "30/30 [==============================] - 0s 2ms/step - loss: 0.9537 - val_loss: 1.7223\n",
            "Epoch 45/50\n",
            "30/30 [==============================] - 0s 3ms/step - loss: 0.8870 - val_loss: 1.7240\n",
            "Epoch 46/50\n",
            "30/30 [==============================] - 0s 3ms/step - loss: 0.8865 - val_loss: 1.7125\n",
            "Epoch 47/50\n",
            "30/30 [==============================] - 0s 3ms/step - loss: 0.8961 - val_loss: 1.7217\n",
            "Epoch 48/50\n",
            "30/30 [==============================] - 0s 3ms/step - loss: 0.9160 - val_loss: 1.7165\n",
            "Epoch 49/50\n",
            "30/30 [==============================] - 0s 2ms/step - loss: 0.8845 - val_loss: 1.7263\n",
            "Epoch 50/50\n",
            "30/30 [==============================] - 0s 3ms/step - loss: 0.9076 - val_loss: 1.7314\n"
          ]
        }
      ]
    },
    {
      "cell_type": "code",
      "source": [
        "plt.plot(history.history['loss'],label='loss')\n",
        "plt.plot(history.history['val_loss'],label='val_loss')\n",
        "plt.xlabel('Epoch')\n",
        "plt.ylabel('Error')\n",
        "plt.legend()\n",
        "plt.grid(True)"
      ],
      "metadata": {
        "colab": {
          "base_uri": "https://localhost:8080/",
          "height": 388
        },
        "id": "HmzK2WiMXflo",
        "outputId": "744aa8d7-da98-49f8-d9f1-9e1a58bab15f"
      },
      "execution_count": null,
      "outputs": [
        {
          "output_type": "display_data",
          "data": {
            "text/plain": [
              "<Figure size 576x432 with 1 Axes>"
            ],
            "image/png": "[encoded data removed]"
          },
          "metadata": {
            "needs_background": "light"
          }
        }
      ]
    },
    {
      "cell_type": "code",
      "source": [
        "model.evaluate(X_test,Y_test,verbose=1)"
      ],
      "metadata": {
        "colab": {
          "base_uri": "https://localhost:8080/"
        },
        "id": "NZZsoNGiYNQ8",
        "outputId": "5d739690-9651-407f-838f-5856206a977e"
      },
      "execution_count": null,
      "outputs": [
        {
          "output_type": "stream",
          "name": "stdout",
          "text": [
            "10/10 [==============================] - 0s 2ms/step - loss: 0.9711\n"
          ]
        },
        {
          "output_type": "execute_result",
          "data": {
            "text/plain": [
              "0.971122145652771"
            ]
          },
          "metadata": {},
          "execution_count": 24
        }
      ]
    },
    {
      "cell_type": "code",
      "source": [
        ""
      ],
      "metadata": {
        "id": "Uad1K00wYeEx"
      },
      "execution_count": null,
      "outputs": []
    }
  ]
}